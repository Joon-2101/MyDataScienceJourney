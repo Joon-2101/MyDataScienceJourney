{
 "cells": [
  {
   "cell_type": "markdown",
   "id": "eb4105d4",
   "metadata": {},
   "source": [
    "# <span style = \"color:blue\">My Data Science Journey</span>\n",
    "\n",
    "### <span style = \"color:blue\">This notebook documents my learning process and goals in data science using Python.</span>"
   ]
  },
  {
   "cell_type": "code",
   "execution_count": null,
   "id": "d9b6297c",
   "metadata": {},
   "outputs": [],
   "source": [
    "## My Data Science Goals\n",
    "\n",
    "1. Master fundamental Python programming skills\n",
    "2. Learn to manipulate and analyze data using pandas\n",
    "3. Develop proficiency in data visualization with matplotlib and seaborn\n",
    "4. Build a portfolio of data science projects"
   ]
  }
 ],
 "metadata": {
  "kernelspec": {
   "display_name": "Python 3 (ipykernel)",
   "language": "python",
   "name": "python3"
  },
  "language_info": {
   "codemirror_mode": {
    "name": "ipython",
    "version": 3
   },
   "file_extension": ".py",
   "mimetype": "text/x-python",
   "name": "python",
   "nbconvert_exporter": "python",
   "pygments_lexer": "ipython3",
   "version": "3.11.5"
  }
 },
 "nbformat": 4,
 "nbformat_minor": 5
}
